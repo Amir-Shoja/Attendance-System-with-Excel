{
 "cells": [
  {
   "cell_type": "code",
   "execution_count": 1,
   "metadata": {},
   "outputs": [],
   "source": [
    "import cv2 as cv\n",
    "import face_recognition as fr\n",
    "import pickle\n",
    "import os"
   ]
  },
  {
   "cell_type": "code",
   "execution_count": 2,
   "metadata": {},
   "outputs": [
    {
     "name": "stdout",
     "output_type": "stream",
     "text": [
      "['Amir Shoja.jpg', 'Barack Obama.jpg', 'Bill Gates.jpg', 'Donald Trump.jpg', 'Elon Musk.jpg', 'Emily Blunt.jpg', 'Mona Lisa.jpg', 'Nikola Tesla.jpg']\n",
      "['Amir Shoja', 'Barack Obama', 'Bill Gates', 'Donald Trump', 'Elon Musk', 'Emily Blunt', 'Mona Lisa', 'Nikola Tesla']\n",
      "ENCODING STARTED ...\n",
      "ENCODING COMPLETE\n",
      "File Saved\n"
     ]
    }
   ],
   "source": [
    "# Importing the Person\n",
    "\n",
    "folderPath = \"images\"\n",
    "PathList = os.listdir(folderPath)\n",
    "imgList = []\n",
    "personIds = []\n",
    "print(PathList)\n",
    "\n",
    "for path in PathList:\n",
    "    # توضیح متد https://blog.faradars.org/python-file-system-methods-you-should-know/\n",
    "    imgList.append(cv.imread(os.path.join(folderPath, path)))\n",
    "    # print(os.path.splitext(path)[0])  # print Name image without .jpg\n",
    "    personIds.append(os.path.splitext(path)[0])\n",
    "\n",
    "print(personIds)\n",
    "# print(\"\\nNumber of Img : \", len(imgList))\n",
    "# print(imgModeList)\n",
    "\n",
    "\n",
    "def findEncodings(imagesList):\n",
    "    encodeList = []\n",
    "\n",
    "    for img in imagesList:\n",
    "        # Step 1 : change BGR to RGB\n",
    "        img = cv.cvtColor(img, cv.COLOR_BGR2RGB)\n",
    "\n",
    "        # step 2 : fnid Encoding\n",
    "        encode = fr.face_encodings(img)[0]\n",
    "        encodeList.append(encode)\n",
    "    return encodeList\n",
    "\n",
    "\n",
    "print(\"ENCODING STARTED ...\")\n",
    "\n",
    "encodeListKnown = findEncodings(imgList)\n",
    "# print(encodeListKnown)\n",
    "# Har ramzgozri marboot be kodoom axe\n",
    "encodeListKnownWithIds = [encodeListKnown, personIds]\n",
    "\n",
    "print(\"ENCODING COMPLETE\")\n",
    "\n",
    "# Step 3 : zakhire kardan encode tasavir\n",
    "file = open(\"EncodeFile.p\", \"wb\")\n",
    "pickle.dump(encodeListKnownWithIds, file)\n",
    "file.close()\n",
    "print(\"File Saved\")"
   ]
  },
  {
   "cell_type": "markdown",
   "metadata": {},
   "source": [
    "این رمزگزاری ها رو ذخیره میکنیم که در مرحله بعد که قراره چهره رو از دوربین شناسایی کنیم ببینیم چهره شناخته شده هست یا نه\n"
   ]
  }
 ],
 "metadata": {
  "kernelspec": {
   "display_name": "cv",
   "language": "python",
   "name": "python3"
  },
  "language_info": {
   "codemirror_mode": {
    "name": "ipython",
    "version": 3
   },
   "file_extension": ".py",
   "mimetype": "text/x-python",
   "name": "python",
   "nbconvert_exporter": "python",
   "pygments_lexer": "ipython3",
   "version": "3.11.6"
  }
 },
 "nbformat": 4,
 "nbformat_minor": 2
}

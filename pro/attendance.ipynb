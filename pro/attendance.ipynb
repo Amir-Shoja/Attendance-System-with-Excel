{
 "cells": [
  {
   "cell_type": "markdown",
   "metadata": {},
   "source": [
    "import Library\n"
   ]
  },
  {
   "cell_type": "code",
   "execution_count": 1,
   "metadata": {},
   "outputs": [],
   "source": [
    "import cv2 as cv\n",
    "import cvzone\n",
    "import os\n",
    "import pickle\n",
    "import face_recognition as fr\n",
    "import numpy as np"
   ]
  },
  {
   "cell_type": "markdown",
   "metadata": {},
   "source": [
    "OPEN WEBCAM\n"
   ]
  },
  {
   "cell_type": "code",
   "execution_count": 2,
   "metadata": {},
   "outputs": [
    {
     "name": "stdout",
     "output_type": "stream",
     "text": [
      "LOADING ENCODE FILE START ...\n",
      "['0', '1', '2', '3', '4', '5', '6', '7', '8']\n",
      "ENCODE FILE LOADED\n"
     ]
    }
   ],
   "source": [
    "cap = cv.VideoCapture(0)\n",
    "cap.set(3, 640)\n",
    "cap.set(4, 480)\n",
    "\n",
    "# imgBackground = cv.imread(\"Resources/back/2.jpg\")\n",
    "imgBackground = cv.imread(\"Resources/background.png\")\n",
    "\n",
    "# Importing the mode images into a list\n",
    "\n",
    "folderModePath = \"Resources/Modes\"\n",
    "modePathList = os.listdir(folderModePath)\n",
    "imgModeList = []\n",
    "\n",
    "for path in modePathList:\n",
    "    # توضیح متد https://blog.faradars.org/python-file-system-methods-you-should-know/\n",
    "    imgModeList.append(cv.imread(os.path.join(folderModePath, path)))\n",
    "\n",
    "# print(len(imgModeList))\n",
    "# print(imgModeList)\n",
    "\n",
    "\n",
    "print(\"LOADING ENCODE FILE START ...\")\n",
    "# Load the encoding file\n",
    "file = open(\"EncodeFile.p\", \"rb\")\n",
    "encodeListKnownWithIds = pickle.load(file)\n",
    "file.close()\n",
    "encodeListKnown, personIds = encodeListKnownWithIds\n",
    "print(personIds)\n",
    "print(\"ENCODE FILE LOADED\")\n",
    "\n",
    "while True:\n",
    "    success, img = cap.read()\n",
    "\n",
    "    # koochik kardan tasvir\n",
    "    imgS = cv.resize(img, (0, 0), None, 0.25, 0.25)\n",
    "    imgS = cv.cvtColor(imgS, cv.COLOR_BGR2RGB)\n",
    "\n",
    "    # mokhtasat chehre ro dar miare\n",
    "    faceCurFrame = fr.face_locations(imgS)\n",
    "    # on mokhtasat ro toy tasvir smal encode mikone\n",
    "    encodeCurFrame = fr.face_encodings(imgS, faceCurFrame)\n",
    "\n",
    "    imgBackground[162:162+480, 55:55+640] = img\n",
    "    imgBackground[44:44+633, 808:808+414] = imgModeList[1]\n",
    "\n",
    "    for encoFace, faceLoc in zip(encodeCurFrame, faceCurFrame):\n",
    "        matches = fr.compare_faces(encodeListKnown, encoFace)\n",
    "        faceDis = fr.face_distance(encodeListKnown, encoFace)\n",
    "        # print(\"matches : \", matches)\n",
    "        # print(\"faceDis : \", faceDis)\n",
    "\n",
    "        matchIndex = np.argmin(faceDis)\n",
    "        # print(\"matchIndex : \", matchIndex)\n",
    "\n",
    "        if matches[matchIndex]:\n",
    "            # print(\"Known Dace Detected\")\n",
    "            # print(personIds[matchIndex])\n",
    "            y1, x2, y2, x1 = faceLoc\n",
    "            y1, x2, y2, x1 = y1*4, x2*4, y2*4, x1*4\n",
    "            bbox = 55+x1, 162+y1, x2-x1, y2-y1\n",
    "            imgBackground = cvzone.cornerRect(imgBackground, bbox, rt=0)\n",
    "\n",
    "    if success:\n",
    "        height, width, _ = img.shape\n",
    "        if height > 0 and width > 0:\n",
    "            cv.imshow(\"Face Attendance\", imgBackground)\n",
    "            # cv.imshow(\"Webcam\", img)\n",
    "            if cv.waitKey(1) & 0xFF == ord('q'):\n",
    "                break\n",
    "        else:\n",
    "            print(\"Invalid image size.\")\n",
    "            break\n",
    "    else:\n",
    "        print(\"Failed to capture frame.\")\n",
    "        break\n",
    "# print(img.shape)\n",
    "cv.destroyAllWindows()"
   ]
  }
 ],
 "metadata": {
  "kernelspec": {
   "display_name": "cv",
   "language": "python",
   "name": "python3"
  },
  "language_info": {
   "codemirror_mode": {
    "name": "ipython",
    "version": 3
   },
   "file_extension": ".py",
   "mimetype": "text/x-python",
   "name": "python",
   "nbconvert_exporter": "python",
   "pygments_lexer": "ipython3",
   "version": "3.11.6"
  }
 },
 "nbformat": 4,
 "nbformat_minor": 2
}
